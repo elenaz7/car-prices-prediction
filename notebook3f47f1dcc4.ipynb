{
 "cells": [
  {
   "cell_type": "code",
   "execution_count": 1,
   "id": "4c065fdd",
   "metadata": {
    "_cell_guid": "b1076dfc-b9ad-4769-8c92-a6c4dae69d19",
    "_uuid": "8f2839f25d086af736a60e9eeb907d3b93b6e0e5",
    "execution": {
     "iopub.execute_input": "2024-08-09T01:18:23.124840Z",
     "iopub.status.busy": "2024-08-09T01:18:23.124481Z",
     "iopub.status.idle": "2024-08-09T01:18:23.899368Z",
     "shell.execute_reply": "2024-08-09T01:18:23.898040Z"
    },
    "papermill": {
     "duration": 0.784409,
     "end_time": "2024-08-09T01:18:23.901973",
     "exception": false,
     "start_time": "2024-08-09T01:18:23.117564",
     "status": "completed"
    },
    "tags": []
   },
   "outputs": [
    {
     "name": "stdout",
     "output_type": "stream",
     "text": [
      "/kaggle/input/car-prices-prediction-data/CarPricesPrediction.csv\n"
     ]
    }
   ],
   "source": [
    "import numpy as np # linear algebra\n",
    "import pandas as pd # data processing\n",
    "import os\n",
    "for dirname, _, filenames in os.walk('/kaggle/input'):\n",
    "    for filename in filenames:\n",
    "        print(os.path.join(dirname, filename))"
   ]
  },
  {
   "cell_type": "code",
   "execution_count": 2,
   "id": "344ab4d9",
   "metadata": {
    "execution": {
     "iopub.execute_input": "2024-08-09T01:18:23.914264Z",
     "iopub.status.busy": "2024-08-09T01:18:23.913788Z",
     "iopub.status.idle": "2024-08-09T01:18:40.238101Z",
     "shell.execute_reply": "2024-08-09T01:18:40.236607Z"
    },
    "papermill": {
     "duration": 16.333764,
     "end_time": "2024-08-09T01:18:40.241120",
     "exception": false,
     "start_time": "2024-08-09T01:18:23.907356",
     "status": "completed"
    },
    "tags": []
   },
   "outputs": [
    {
     "name": "stdout",
     "output_type": "stream",
     "text": [
      "Requirement already satisfied: numpy in /opt/conda/lib/python3.10/site-packages (1.26.4)\r\n",
      "Requirement already satisfied: pandas in /opt/conda/lib/python3.10/site-packages (2.2.2)\r\n",
      "Requirement already satisfied: matplotlib in /opt/conda/lib/python3.10/site-packages (3.7.5)\r\n",
      "Requirement already satisfied: scikit-learn in /opt/conda/lib/python3.10/site-packages (1.2.2)\r\n",
      "Requirement already satisfied: tensorflow in /opt/conda/lib/python3.10/site-packages (2.15.0)\r\n",
      "Requirement already satisfied: python-dateutil>=2.8.2 in /opt/conda/lib/python3.10/site-packages (from pandas) (2.9.0.post0)\r\n",
      "Requirement already satisfied: pytz>=2020.1 in /opt/conda/lib/python3.10/site-packages (from pandas) (2023.3.post1)\r\n",
      "Requirement already satisfied: tzdata>=2022.7 in /opt/conda/lib/python3.10/site-packages (from pandas) (2023.4)\r\n",
      "Requirement already satisfied: contourpy>=1.0.1 in /opt/conda/lib/python3.10/site-packages (from matplotlib) (1.2.0)\r\n",
      "Requirement already satisfied: cycler>=0.10 in /opt/conda/lib/python3.10/site-packages (from matplotlib) (0.12.1)\r\n",
      "Requirement already satisfied: fonttools>=4.22.0 in /opt/conda/lib/python3.10/site-packages (from matplotlib) (4.47.0)\r\n",
      "Requirement already satisfied: kiwisolver>=1.0.1 in /opt/conda/lib/python3.10/site-packages (from matplotlib) (1.4.5)\r\n",
      "Requirement already satisfied: packaging>=20.0 in /opt/conda/lib/python3.10/site-packages (from matplotlib) (21.3)\r\n",
      "Requirement already satisfied: pillow>=6.2.0 in /opt/conda/lib/python3.10/site-packages (from matplotlib) (9.5.0)\r\n",
      "Requirement already satisfied: pyparsing>=2.3.1 in /opt/conda/lib/python3.10/site-packages (from matplotlib) (3.1.1)\r\n",
      "Requirement already satisfied: scipy>=1.3.2 in /opt/conda/lib/python3.10/site-packages (from scikit-learn) (1.11.4)\r\n",
      "Requirement already satisfied: joblib>=1.1.1 in /opt/conda/lib/python3.10/site-packages (from scikit-learn) (1.4.2)\r\n",
      "Requirement already satisfied: threadpoolctl>=2.0.0 in /opt/conda/lib/python3.10/site-packages (from scikit-learn) (3.2.0)\r\n",
      "Requirement already satisfied: absl-py>=1.0.0 in /opt/conda/lib/python3.10/site-packages (from tensorflow) (1.4.0)\r\n",
      "Requirement already satisfied: astunparse>=1.6.0 in /opt/conda/lib/python3.10/site-packages (from tensorflow) (1.6.3)\r\n",
      "Requirement already satisfied: flatbuffers>=23.5.26 in /opt/conda/lib/python3.10/site-packages (from tensorflow) (23.5.26)\r\n",
      "Requirement already satisfied: gast!=0.5.0,!=0.5.1,!=0.5.2,>=0.2.1 in /opt/conda/lib/python3.10/site-packages (from tensorflow) (0.5.4)\r\n",
      "Requirement already satisfied: google-pasta>=0.1.1 in /opt/conda/lib/python3.10/site-packages (from tensorflow) (0.2.0)\r\n",
      "Requirement already satisfied: h5py>=2.9.0 in /opt/conda/lib/python3.10/site-packages (from tensorflow) (3.10.0)\r\n",
      "Requirement already satisfied: libclang>=13.0.0 in /opt/conda/lib/python3.10/site-packages (from tensorflow) (16.0.6)\r\n",
      "Requirement already satisfied: ml-dtypes~=0.2.0 in /opt/conda/lib/python3.10/site-packages (from tensorflow) (0.2.0)\r\n",
      "Requirement already satisfied: opt-einsum>=2.3.2 in /opt/conda/lib/python3.10/site-packages (from tensorflow) (3.3.0)\r\n",
      "Requirement already satisfied: protobuf!=4.21.0,!=4.21.1,!=4.21.2,!=4.21.3,!=4.21.4,!=4.21.5,<5.0.0dev,>=3.20.3 in /opt/conda/lib/python3.10/site-packages (from tensorflow) (3.20.3)\r\n",
      "Requirement already satisfied: setuptools in /opt/conda/lib/python3.10/site-packages (from tensorflow) (69.0.3)\r\n",
      "Requirement already satisfied: six>=1.12.0 in /opt/conda/lib/python3.10/site-packages (from tensorflow) (1.16.0)\r\n",
      "Requirement already satisfied: termcolor>=1.1.0 in /opt/conda/lib/python3.10/site-packages (from tensorflow) (2.4.0)\r\n",
      "Requirement already satisfied: typing-extensions>=3.6.6 in /opt/conda/lib/python3.10/site-packages (from tensorflow) (4.9.0)\r\n",
      "Requirement already satisfied: wrapt<1.15,>=1.11.0 in /opt/conda/lib/python3.10/site-packages (from tensorflow) (1.14.1)\r\n",
      "Requirement already satisfied: tensorflow-io-gcs-filesystem>=0.23.1 in /opt/conda/lib/python3.10/site-packages (from tensorflow) (0.35.0)\r\n",
      "Requirement already satisfied: grpcio<2.0,>=1.24.3 in /opt/conda/lib/python3.10/site-packages (from tensorflow) (1.60.0)\r\n",
      "Requirement already satisfied: tensorboard<2.16,>=2.15 in /opt/conda/lib/python3.10/site-packages (from tensorflow) (2.15.1)\r\n",
      "Requirement already satisfied: tensorflow-estimator<2.16,>=2.15.0 in /opt/conda/lib/python3.10/site-packages (from tensorflow) (2.15.0)\r\n",
      "Collecting keras<2.16,>=2.15.0 (from tensorflow)\r\n",
      "  Downloading keras-2.15.0-py3-none-any.whl.metadata (2.4 kB)\r\n",
      "Requirement already satisfied: wheel<1.0,>=0.23.0 in /opt/conda/lib/python3.10/site-packages (from astunparse>=1.6.0->tensorflow) (0.42.0)\r\n",
      "Requirement already satisfied: google-auth<3,>=1.6.3 in /opt/conda/lib/python3.10/site-packages (from tensorboard<2.16,>=2.15->tensorflow) (2.26.1)\r\n",
      "Requirement already satisfied: google-auth-oauthlib<2,>=0.5 in /opt/conda/lib/python3.10/site-packages (from tensorboard<2.16,>=2.15->tensorflow) (1.2.0)\r\n",
      "Requirement already satisfied: markdown>=2.6.8 in /opt/conda/lib/python3.10/site-packages (from tensorboard<2.16,>=2.15->tensorflow) (3.5.2)\r\n",
      "Requirement already satisfied: requests<3,>=2.21.0 in /opt/conda/lib/python3.10/site-packages (from tensorboard<2.16,>=2.15->tensorflow) (2.32.3)\r\n",
      "Requirement already satisfied: tensorboard-data-server<0.8.0,>=0.7.0 in /opt/conda/lib/python3.10/site-packages (from tensorboard<2.16,>=2.15->tensorflow) (0.7.2)\r\n",
      "Requirement already satisfied: werkzeug>=1.0.1 in /opt/conda/lib/python3.10/site-packages (from tensorboard<2.16,>=2.15->tensorflow) (3.0.3)\r\n",
      "Requirement already satisfied: cachetools<6.0,>=2.0.0 in /opt/conda/lib/python3.10/site-packages (from google-auth<3,>=1.6.3->tensorboard<2.16,>=2.15->tensorflow) (4.2.4)\r\n",
      "Requirement already satisfied: pyasn1-modules>=0.2.1 in /opt/conda/lib/python3.10/site-packages (from google-auth<3,>=1.6.3->tensorboard<2.16,>=2.15->tensorflow) (0.3.0)\r\n",
      "Requirement already satisfied: rsa<5,>=3.1.4 in /opt/conda/lib/python3.10/site-packages (from google-auth<3,>=1.6.3->tensorboard<2.16,>=2.15->tensorflow) (4.9)\r\n",
      "Requirement already satisfied: requests-oauthlib>=0.7.0 in /opt/conda/lib/python3.10/site-packages (from google-auth-oauthlib<2,>=0.5->tensorboard<2.16,>=2.15->tensorflow) (1.3.1)\r\n",
      "Requirement already satisfied: charset-normalizer<4,>=2 in /opt/conda/lib/python3.10/site-packages (from requests<3,>=2.21.0->tensorboard<2.16,>=2.15->tensorflow) (3.3.2)\r\n",
      "Requirement already satisfied: idna<4,>=2.5 in /opt/conda/lib/python3.10/site-packages (from requests<3,>=2.21.0->tensorboard<2.16,>=2.15->tensorflow) (3.6)\r\n",
      "Requirement already satisfied: urllib3<3,>=1.21.1 in /opt/conda/lib/python3.10/site-packages (from requests<3,>=2.21.0->tensorboard<2.16,>=2.15->tensorflow) (1.26.18)\r\n",
      "Requirement already satisfied: certifi>=2017.4.17 in /opt/conda/lib/python3.10/site-packages (from requests<3,>=2.21.0->tensorboard<2.16,>=2.15->tensorflow) (2024.7.4)\r\n",
      "Requirement already satisfied: MarkupSafe>=2.1.1 in /opt/conda/lib/python3.10/site-packages (from werkzeug>=1.0.1->tensorboard<2.16,>=2.15->tensorflow) (2.1.3)\r\n",
      "Requirement already satisfied: pyasn1<0.6.0,>=0.4.6 in /opt/conda/lib/python3.10/site-packages (from pyasn1-modules>=0.2.1->google-auth<3,>=1.6.3->tensorboard<2.16,>=2.15->tensorflow) (0.5.1)\r\n",
      "Requirement already satisfied: oauthlib>=3.0.0 in /opt/conda/lib/python3.10/site-packages (from requests-oauthlib>=0.7.0->google-auth-oauthlib<2,>=0.5->tensorboard<2.16,>=2.15->tensorflow) (3.2.2)\r\n",
      "Downloading keras-2.15.0-py3-none-any.whl (1.7 MB)\r\n",
      "\u001b[2K   \u001b[90m━━━━━━━━━━━━━━━━━━━━━━━━━━━━━━━━━━━━━━━━\u001b[0m \u001b[32m1.7/1.7 MB\u001b[0m \u001b[31m18.1 MB/s\u001b[0m eta \u001b[36m0:00:00\u001b[0m\r\n",
      "\u001b[?25hInstalling collected packages: keras\r\n",
      "  Attempting uninstall: keras\r\n",
      "    Found existing installation: keras 3.4.1\r\n",
      "    Uninstalling keras-3.4.1:\r\n",
      "      Successfully uninstalled keras-3.4.1\r\n",
      "\u001b[31mERROR: pip's dependency resolver does not currently take into account all the packages that are installed. This behaviour is the source of the following dependency conflicts.\r\n",
      "tensorflow-decision-forests 1.8.1 requires wurlitzer, which is not installed.\u001b[0m\u001b[31m\r\n",
      "\u001b[0mSuccessfully installed keras-2.15.0\r\n"
     ]
    }
   ],
   "source": [
    "#firstly i am going to install the necesary libraries that i am going to use later on \n",
    "!pip install numpy pandas matplotlib scikit-learn tensorflow "
   ]
  },
  {
   "cell_type": "code",
   "execution_count": 3,
   "id": "0b085f1c",
   "metadata": {
    "execution": {
     "iopub.execute_input": "2024-08-09T01:18:40.261521Z",
     "iopub.status.busy": "2024-08-09T01:18:40.260981Z",
     "iopub.status.idle": "2024-08-09T01:18:54.383892Z",
     "shell.execute_reply": "2024-08-09T01:18:54.382819Z"
    },
    "papermill": {
     "duration": 14.136792,
     "end_time": "2024-08-09T01:18:54.386450",
     "exception": false,
     "start_time": "2024-08-09T01:18:40.249658",
     "status": "completed"
    },
    "tags": []
   },
   "outputs": [
    {
     "name": "stderr",
     "output_type": "stream",
     "text": [
      "2024-08-09 01:18:43.740102: E external/local_xla/xla/stream_executor/cuda/cuda_dnn.cc:9261] Unable to register cuDNN factory: Attempting to register factory for plugin cuDNN when one has already been registered\n",
      "2024-08-09 01:18:43.740230: E external/local_xla/xla/stream_executor/cuda/cuda_fft.cc:607] Unable to register cuFFT factory: Attempting to register factory for plugin cuFFT when one has already been registered\n",
      "2024-08-09 01:18:43.896825: E external/local_xla/xla/stream_executor/cuda/cuda_blas.cc:1515] Unable to register cuBLAS factory: Attempting to register factory for plugin cuBLAS when one has already been registered\n"
     ]
    }
   ],
   "source": [
    "import pandas as pd\n",
    "import numpy as np\n",
    "import matplotlib.pyplot as plt\n",
    "from sklearn.model_selection import train_test_split\n",
    "from sklearn.linear_model import LinearRegression\n",
    "from sklearn.metrics import mean_squared_error\n",
    "from sklearn.preprocessing import StandardScaler\n",
    "from tensorflow.keras.models import Sequential \n",
    "from tensorflow.keras.layers import Dense"
   ]
  },
  {
   "cell_type": "code",
   "execution_count": 4,
   "id": "bd683236",
   "metadata": {
    "execution": {
     "iopub.execute_input": "2024-08-09T01:18:54.401931Z",
     "iopub.status.busy": "2024-08-09T01:18:54.401221Z",
     "iopub.status.idle": "2024-08-09T01:18:54.424672Z",
     "shell.execute_reply": "2024-08-09T01:18:54.423589Z"
    },
    "papermill": {
     "duration": 0.033978,
     "end_time": "2024-08-09T01:18:54.427272",
     "exception": false,
     "start_time": "2024-08-09T01:18:54.393294",
     "status": "completed"
    },
    "tags": []
   },
   "outputs": [],
   "source": [
    "#now i am going to import the data from the dataset and load it \n",
    "url=\"https://www.kaggle.com/datasets/mrsimple07/car-prices-prediction-data\"\n",
    "data=pd.read_csv('/kaggle/input/car-prices-prediction-data/CarPricesPrediction.csv')"
   ]
  },
  {
   "cell_type": "code",
   "execution_count": 5,
   "id": "0de253bf",
   "metadata": {
    "execution": {
     "iopub.execute_input": "2024-08-09T01:18:54.442401Z",
     "iopub.status.busy": "2024-08-09T01:18:54.441973Z",
     "iopub.status.idle": "2024-08-09T01:18:54.461056Z",
     "shell.execute_reply": "2024-08-09T01:18:54.459498Z"
    },
    "papermill": {
     "duration": 0.0295,
     "end_time": "2024-08-09T01:18:54.463618",
     "exception": false,
     "start_time": "2024-08-09T01:18:54.434118",
     "status": "completed"
    },
    "tags": []
   },
   "outputs": [
    {
     "name": "stdout",
     "output_type": "stream",
     "text": [
      "   Unnamed: 0       Make      Model  Year  Mileage  Condition     Price\n",
      "0           0       Ford  Silverado  2022    18107  Excellent  19094.75\n",
      "1           1     Toyota  Silverado  2014    13578  Excellent  27321.10\n",
      "2           2  Chevrolet      Civic  2016    46054       Good  23697.30\n",
      "3           3       Ford      Civic  2022    34981  Excellent  18251.05\n",
      "4           4  Chevrolet      Civic  2019    63565  Excellent  19821.85\n"
     ]
    }
   ],
   "source": [
    "#now displaying the first few rows of the dataset \n",
    "print(data.head())"
   ]
  },
  {
   "cell_type": "code",
   "execution_count": 6,
   "id": "d3ddf49f",
   "metadata": {
    "execution": {
     "iopub.execute_input": "2024-08-09T01:18:54.478705Z",
     "iopub.status.busy": "2024-08-09T01:18:54.478322Z",
     "iopub.status.idle": "2024-08-09T01:18:55.183711Z",
     "shell.execute_reply": "2024-08-09T01:18:55.182651Z"
    },
    "papermill": {
     "duration": 0.715672,
     "end_time": "2024-08-09T01:18:55.186041",
     "exception": false,
     "start_time": "2024-08-09T01:18:54.470369",
     "status": "completed"
    },
    "tags": []
   },
   "outputs": [
    {
     "name": "stderr",
     "output_type": "stream",
     "text": [
      "/opt/conda/lib/python3.10/site-packages/seaborn/_oldcore.py:1119: FutureWarning: use_inf_as_na option is deprecated and will be removed in a future version. Convert inf values to NaN before operating instead.\n",
      "  with pd.option_context('mode.use_inf_as_na', True):\n"
     ]
    },
    {
     "data": {
      "image/png": "[encoded data removed]",
      "text/plain": [
       "<Figure size 1000x600 with 1 Axes>"
      ]
     },
     "metadata": {},
     "output_type": "display_data"
    }
   ],
   "source": [
    "#visualizing the distribution of the car prices\n",
    "import seaborn as sns\n",
    "plt.figure(figsize=(10, 6))\n",
    "sns.histplot(data['Price'], kde=True)\n",
    "plt.title('Car prices distributed')\n",
    "plt.show()"
   ]
  },
  {
   "cell_type": "code",
   "execution_count": 7,
   "id": "7ec2fb26",
   "metadata": {
    "execution": {
     "iopub.execute_input": "2024-08-09T01:18:55.202938Z",
     "iopub.status.busy": "2024-08-09T01:18:55.202520Z",
     "iopub.status.idle": "2024-08-09T01:18:55.209931Z",
     "shell.execute_reply": "2024-08-09T01:18:55.208849Z"
    },
    "papermill": {
     "duration": 0.018675,
     "end_time": "2024-08-09T01:18:55.212431",
     "exception": false,
     "start_time": "2024-08-09T01:18:55.193756",
     "status": "completed"
    },
    "tags": []
   },
   "outputs": [],
   "source": [
    "#dropping the missing values(getting read of the empty spots)\n",
    "data = data.dropna()"
   ]
  },
  {
   "cell_type": "code",
   "execution_count": 8,
   "id": "ed1cecc3",
   "metadata": {
    "execution": {
     "iopub.execute_input": "2024-08-09T01:18:55.228944Z",
     "iopub.status.busy": "2024-08-09T01:18:55.228561Z",
     "iopub.status.idle": "2024-08-09T01:18:55.241124Z",
     "shell.execute_reply": "2024-08-09T01:18:55.240171Z"
    },
    "papermill": {
     "duration": 0.023547,
     "end_time": "2024-08-09T01:18:55.243447",
     "exception": false,
     "start_time": "2024-08-09T01:18:55.219900",
     "status": "completed"
    },
    "tags": []
   },
   "outputs": [],
   "source": [
    "#converting the categorical variables into numerical \n",
    "data=pd.get_dummies(data)"
   ]
  },
  {
   "cell_type": "code",
   "execution_count": 9,
   "id": "e7546544",
   "metadata": {
    "execution": {
     "iopub.execute_input": "2024-08-09T01:18:55.259776Z",
     "iopub.status.busy": "2024-08-09T01:18:55.259407Z",
     "iopub.status.idle": "2024-08-09T01:18:55.265539Z",
     "shell.execute_reply": "2024-08-09T01:18:55.264528Z"
    },
    "papermill": {
     "duration": 0.01676,
     "end_time": "2024-08-09T01:18:55.267673",
     "exception": false,
     "start_time": "2024-08-09T01:18:55.250913",
     "status": "completed"
    },
    "tags": []
   },
   "outputs": [],
   "source": [
    "#splitting into x and y(separate features and target variable)\n",
    "X=data.drop('Price', axis=1)\n",
    "y=data['Price']"
   ]
  },
  {
   "cell_type": "code",
   "execution_count": 10,
   "id": "65ea3f30",
   "metadata": {
    "execution": {
     "iopub.execute_input": "2024-08-09T01:18:55.283982Z",
     "iopub.status.busy": "2024-08-09T01:18:55.283605Z",
     "iopub.status.idle": "2024-08-09T01:18:55.295009Z",
     "shell.execute_reply": "2024-08-09T01:18:55.294167Z"
    },
    "papermill": {
     "duration": 0.022271,
     "end_time": "2024-08-09T01:18:55.297324",
     "exception": false,
     "start_time": "2024-08-09T01:18:55.275053",
     "status": "completed"
    },
    "tags": []
   },
   "outputs": [],
   "source": [
    "#now i am splitting to test and training sets\n",
    "X_train, X_test, y_train, y_test = train_test_split(X, y, test_size=0.2, random_state=42)"
   ]
  },
  {
   "cell_type": "code",
   "execution_count": 11,
   "id": "c92c92a0",
   "metadata": {
    "execution": {
     "iopub.execute_input": "2024-08-09T01:18:55.313956Z",
     "iopub.status.busy": "2024-08-09T01:18:55.313562Z",
     "iopub.status.idle": "2024-08-09T01:18:55.344118Z",
     "shell.execute_reply": "2024-08-09T01:18:55.342993Z"
    },
    "papermill": {
     "duration": 0.042299,
     "end_time": "2024-08-09T01:18:55.347116",
     "exception": false,
     "start_time": "2024-08-09T01:18:55.304817",
     "status": "completed"
    },
    "tags": []
   },
   "outputs": [
    {
     "data": {
      "text/html": [
       "<style>#sk-container-id-1 {color: black;background-color: white;}#sk-container-id-1 pre{padding: 0;}#sk-container-id-1 div.sk-toggleable {background-color: white;}#sk-container-id-1 label.sk-toggleable__label {cursor: pointer;display: block;width: 100%;margin-bottom: 0;padding: 0.3em;box-sizing: border-box;text-align: center;}#sk-container-id-1 label.sk-toggleable__label-arrow:before {content: \"▸\";float: left;margin-right: 0.25em;color: #696969;}#sk-container-id-1 label.sk-toggleable__label-arrow:hover:before {color: black;}#sk-container-id-1 div.sk-estimator:hover label.sk-toggleable__label-arrow:before {color: black;}#sk-container-id-1 div.sk-toggleable__content {max-height: 0;max-width: 0;overflow: hidden;text-align: left;background-color: #f0f8ff;}#sk-container-id-1 div.sk-toggleable__content pre {margin: 0.2em;color: black;border-radius: 0.25em;background-color: #f0f8ff;}#sk-container-id-1 input.sk-toggleable__control:checked~div.sk-toggleable__content {max-height: 200px;max-width: 100%;overflow: auto;}#sk-container-id-1 input.sk-toggleable__control:checked~label.sk-toggleable__label-arrow:before {content: \"▾\";}#sk-container-id-1 div.sk-estimator input.sk-toggleable__control:checked~label.sk-toggleable__label {background-color: #d4ebff;}#sk-container-id-1 div.sk-label input.sk-toggleable__control:checked~label.sk-toggleable__label {background-color: #d4ebff;}#sk-container-id-1 input.sk-hidden--visually {border: 0;clip: rect(1px 1px 1px 1px);clip: rect(1px, 1px, 1px, 1px);height: 1px;margin: -1px;overflow: hidden;padding: 0;position: absolute;width: 1px;}#sk-container-id-1 div.sk-estimator {font-family: monospace;background-color: #f0f8ff;border: 1px dotted black;border-radius: 0.25em;box-sizing: border-box;margin-bottom: 0.5em;}#sk-container-id-1 div.sk-estimator:hover {background-color: #d4ebff;}#sk-container-id-1 div.sk-parallel-item::after {content: \"\";width: 100%;border-bottom: 1px solid gray;flex-grow: 1;}#sk-container-id-1 div.sk-label:hover label.sk-toggleable__label {background-color: #d4ebff;}#sk-container-id-1 div.sk-serial::before {content: \"\";position: absolute;border-left: 1px solid gray;box-sizing: border-box;top: 0;bottom: 0;left: 50%;z-index: 0;}#sk-container-id-1 div.sk-serial {display: flex;flex-direction: column;align-items: center;background-color: white;padding-right: 0.2em;padding-left: 0.2em;position: relative;}#sk-container-id-1 div.sk-item {position: relative;z-index: 1;}#sk-container-id-1 div.sk-parallel {display: flex;align-items: stretch;justify-content: center;background-color: white;position: relative;}#sk-container-id-1 div.sk-item::before, #sk-container-id-1 div.sk-parallel-item::before {content: \"\";position: absolute;border-left: 1px solid gray;box-sizing: border-box;top: 0;bottom: 0;left: 50%;z-index: -1;}#sk-container-id-1 div.sk-parallel-item {display: flex;flex-direction: column;z-index: 1;position: relative;background-color: white;}#sk-container-id-1 div.sk-parallel-item:first-child::after {align-self: flex-end;width: 50%;}#sk-container-id-1 div.sk-parallel-item:last-child::after {align-self: flex-start;width: 50%;}#sk-container-id-1 div.sk-parallel-item:only-child::after {width: 0;}#sk-container-id-1 div.sk-dashed-wrapped {border: 1px dashed gray;margin: 0 0.4em 0.5em 0.4em;box-sizing: border-box;padding-bottom: 0.4em;background-color: white;}#sk-container-id-1 div.sk-label label {font-family: monospace;font-weight: bold;display: inline-block;line-height: 1.2em;}#sk-container-id-1 div.sk-label-container {text-align: center;}#sk-container-id-1 div.sk-container {/* jupyter's `normalize.less` sets `[hidden] { display: none; }` but bootstrap.min.css set `[hidden] { display: none !important; }` so we also need the `!important` here to be able to override the default hidden behavior on the sphinx rendered scikit-learn.org. See: https://github.com/scikit-learn/scikit-learn/issues/21755 */display: inline-block !important;position: relative;}#sk-container-id-1 div.sk-text-repr-fallback {display: none;}</style><div id=\"sk-container-id-1\" class=\"sk-top-container\"><div class=\"sk-text-repr-fallback\"><pre>LinearRegression()</pre><b>In a Jupyter environment, please rerun this cell to show the HTML representation or trust the notebook. <br />On GitHub, the HTML representation is unable to render, please try loading this page with nbviewer.org.</b></div><div class=\"sk-container\" hidden><div class=\"sk-item\"><div class=\"sk-estimator sk-toggleable\"><input class=\"sk-toggleable__control sk-hidden--visually\" id=\"sk-estimator-id-1\" type=\"checkbox\" checked><label for=\"sk-estimator-id-1\" class=\"sk-toggleable__label sk-toggleable__label-arrow\">LinearRegression</label><div class=\"sk-toggleable__content\"><pre>LinearRegression()</pre></div></div></div></div></div>"
      ],
      "text/plain": [
       "LinearRegression()"
      ]
     },
     "execution_count": 11,
     "metadata": {},
     "output_type": "execute_result"
    }
   ],
   "source": [
    "#linear regression model\n",
    "#initialization of it\n",
    "lr_model = LinearRegression()\n",
    "#training thre model\n",
    "lr_model.fit(X_train, y_train)"
   ]
  },
  {
   "cell_type": "code",
   "execution_count": 12,
   "id": "a4c64c8d",
   "metadata": {
    "execution": {
     "iopub.execute_input": "2024-08-09T01:18:55.374054Z",
     "iopub.status.busy": "2024-08-09T01:18:55.373534Z",
     "iopub.status.idle": "2024-08-09T01:18:55.384328Z",
     "shell.execute_reply": "2024-08-09T01:18:55.383276Z"
    },
    "papermill": {
     "duration": 0.027325,
     "end_time": "2024-08-09T01:18:55.386945",
     "exception": false,
     "start_time": "2024-08-09T01:18:55.359620",
     "status": "completed"
    },
    "tags": []
   },
   "outputs": [
    {
     "name": "stdout",
     "output_type": "stream",
     "text": [
      "Linear Regression Mean Squared Error: 0.0047774769462206835\n"
     ]
    }
   ],
   "source": [
    "#making predicitions\n",
    "y_pred_lr = lr_model.predict(X_test)\n",
    "#model evaluation\n",
    "mse_lr = mean_squared_error(y_test, y_pred_lr)\n",
    "print(f\"Linear Regression Mean Squared Error: {mse_lr}\")"
   ]
  },
  {
   "cell_type": "code",
   "execution_count": 13,
   "id": "f7808b4a",
   "metadata": {
    "execution": {
     "iopub.execute_input": "2024-08-09T01:18:55.414593Z",
     "iopub.status.busy": "2024-08-09T01:18:55.414076Z",
     "iopub.status.idle": "2024-08-09T01:18:55.708343Z",
     "shell.execute_reply": "2024-08-09T01:18:55.707224Z"
    },
    "papermill": {
     "duration": 0.311272,
     "end_time": "2024-08-09T01:18:55.710972",
     "exception": false,
     "start_time": "2024-08-09T01:18:55.399700",
     "status": "completed"
    },
    "tags": []
   },
   "outputs": [
    {
     "data": {
      "image/png": "[encoded data removed]",
      "text/plain": [
       "<Figure size 640x480 with 1 Axes>"
      ]
     },
     "metadata": {},
     "output_type": "display_data"
    }
   ],
   "source": [
    "#plot\n",
    "#actual vs predicted prices\n",
    "plt.scatter(y_test, y_pred_lr)\n",
    "plt.xlabel('Actual prices')\n",
    "plt.ylabel('Predicted prices')\n",
    "plt.title('Linear Regression: actual vs predicted prices')\n",
    "plt.show()"
   ]
  },
  {
   "cell_type": "code",
   "execution_count": 14,
   "id": "6265af95",
   "metadata": {
    "execution": {
     "iopub.execute_input": "2024-08-09T01:18:55.731119Z",
     "iopub.status.busy": "2024-08-09T01:18:55.730710Z",
     "iopub.status.idle": "2024-08-09T01:18:55.743812Z",
     "shell.execute_reply": "2024-08-09T01:18:55.742670Z"
    },
    "papermill": {
     "duration": 0.026635,
     "end_time": "2024-08-09T01:18:55.746399",
     "exception": false,
     "start_time": "2024-08-09T01:18:55.719764",
     "status": "completed"
    },
    "tags": []
   },
   "outputs": [],
   "source": [
    "#neural networks model\n",
    "#i am using tensorflow and keras for this one\n",
    "#starting with the normalization of hte data\n",
    "scaler=StandardScaler()\n",
    "X_train_scaled=scaler.fit_transform(X_train)\n",
    "X_test_scaled=scaler.transform(X_test)"
   ]
  },
  {
   "cell_type": "code",
   "execution_count": 15,
   "id": "08ca2010",
   "metadata": {
    "execution": {
     "iopub.execute_input": "2024-08-09T01:18:55.764616Z",
     "iopub.status.busy": "2024-08-09T01:18:55.764214Z",
     "iopub.status.idle": "2024-08-09T01:18:55.884319Z",
     "shell.execute_reply": "2024-08-09T01:18:55.883176Z"
    },
    "papermill": {
     "duration": 0.132144,
     "end_time": "2024-08-09T01:18:55.887013",
     "exception": false,
     "start_time": "2024-08-09T01:18:55.754869",
     "status": "completed"
    },
    "tags": []
   },
   "outputs": [],
   "source": [
    "#building the nnm\n",
    "nn_model=Sequential()\n",
    "nn_model.add(Dense(64, input_dim=X_train_scaled.shape[1], activation='relu'))\n",
    "nn_model.add(Dense(32, activation='relu'))\n",
    "nn_model.add(Dense(1, activation='linear'))"
   ]
  },
  {
   "cell_type": "code",
   "execution_count": 16,
   "id": "a24e6461",
   "metadata": {
    "execution": {
     "iopub.execute_input": "2024-08-09T01:18:55.906157Z",
     "iopub.status.busy": "2024-08-09T01:18:55.905760Z",
     "iopub.status.idle": "2024-08-09T01:18:55.926061Z",
     "shell.execute_reply": "2024-08-09T01:18:55.925047Z"
    },
    "papermill": {
     "duration": 0.033053,
     "end_time": "2024-08-09T01:18:55.928508",
     "exception": false,
     "start_time": "2024-08-09T01:18:55.895455",
     "status": "completed"
    },
    "tags": []
   },
   "outputs": [],
   "source": [
    "#compile\n",
    "nn_model.compile(optimizer='adam', loss='mean_squared_error')"
   ]
  },
  {
   "cell_type": "code",
   "execution_count": 17,
   "id": "82b6f893",
   "metadata": {
    "execution": {
     "iopub.execute_input": "2024-08-09T01:18:55.946778Z",
     "iopub.status.busy": "2024-08-09T01:18:55.946382Z",
     "iopub.status.idle": "2024-08-09T01:19:00.220932Z",
     "shell.execute_reply": "2024-08-09T01:19:00.218930Z"
    },
    "papermill": {
     "duration": 4.287822,
     "end_time": "2024-08-09T01:19:00.224768",
     "exception": false,
     "start_time": "2024-08-09T01:18:55.936946",
     "status": "completed"
    },
    "tags": []
   },
   "outputs": [
    {
     "name": "stdout",
     "output_type": "stream",
     "text": [
      "Epoch 1/50\n",
      "20/20 [==============================] - 1s 11ms/step - loss: 512486976.0000 - val_loss: 492702912.0000\n",
      "Epoch 2/50\n",
      "20/20 [==============================] - 0s 3ms/step - loss: 512391072.0000 - val_loss: 492585664.0000\n",
      "Epoch 3/50\n",
      "20/20 [==============================] - 0s 3ms/step - loss: 512230752.0000 - val_loss: 492388864.0000\n",
      "Epoch 4/50\n",
      "20/20 [==============================] - 0s 3ms/step - loss: 511968928.0000 - val_loss: 492082016.0000\n",
      "Epoch 5/50\n",
      "20/20 [==============================] - 0s 3ms/step - loss: 511575136.0000 - val_loss: 491633344.0000\n",
      "Epoch 6/50\n",
      "20/20 [==============================] - 0s 3ms/step - loss: 511005696.0000 - val_loss: 491005440.0000\n",
      "Epoch 7/50\n",
      "20/20 [==============================] - 0s 3ms/step - loss: 510224640.0000 - val_loss: 490150720.0000\n",
      "Epoch 8/50\n",
      "20/20 [==============================] - 0s 3ms/step - loss: 509170592.0000 - val_loss: 489035520.0000\n",
      "Epoch 9/50\n",
      "20/20 [==============================] - 0s 3ms/step - loss: 507815584.0000 - val_loss: 487609344.0000\n",
      "Epoch 10/50\n",
      "20/20 [==============================] - 0s 3ms/step - loss: 506093984.0000 - val_loss: 485841600.0000\n",
      "Epoch 11/50\n",
      "20/20 [==============================] - 0s 3ms/step - loss: 503979520.0000 - val_loss: 483685472.0000\n",
      "Epoch 12/50\n",
      "20/20 [==============================] - 0s 3ms/step - loss: 501424640.0000 - val_loss: 481100704.0000\n",
      "Epoch 13/50\n",
      "20/20 [==============================] - 0s 3ms/step - loss: 498364224.0000 - val_loss: 478075488.0000\n",
      "Epoch 14/50\n",
      "20/20 [==============================] - 0s 3ms/step - loss: 494820352.0000 - val_loss: 474526400.0000\n",
      "Epoch 15/50\n",
      "20/20 [==============================] - 0s 3ms/step - loss: 490663840.0000 - val_loss: 470483616.0000\n",
      "Epoch 16/50\n",
      "20/20 [==============================] - 0s 3ms/step - loss: 485952960.0000 - val_loss: 465861376.0000\n",
      "Epoch 17/50\n",
      "20/20 [==============================] - 0s 3ms/step - loss: 480609856.0000 - val_loss: 460662720.0000\n",
      "Epoch 18/50\n",
      "20/20 [==============================] - 0s 3ms/step - loss: 474603328.0000 - val_loss: 454895104.0000\n",
      "Epoch 19/50\n",
      "20/20 [==============================] - 0s 3ms/step - loss: 467936704.0000 - val_loss: 448521152.0000\n",
      "Epoch 20/50\n",
      "20/20 [==============================] - 0s 3ms/step - loss: 460591296.0000 - val_loss: 441552480.0000\n",
      "Epoch 21/50\n",
      "20/20 [==============================] - 0s 3ms/step - loss: 452581696.0000 - val_loss: 433916928.0000\n",
      "Epoch 22/50\n",
      "20/20 [==============================] - 0s 3ms/step - loss: 443845696.0000 - val_loss: 425695680.0000\n",
      "Epoch 23/50\n",
      "20/20 [==============================] - 0s 3ms/step - loss: 434428064.0000 - val_loss: 416895040.0000\n",
      "Epoch 24/50\n",
      "20/20 [==============================] - 0s 3ms/step - loss: 424465280.0000 - val_loss: 407316576.0000\n",
      "Epoch 25/50\n",
      "20/20 [==============================] - 0s 3ms/step - loss: 413691392.0000 - val_loss: 397258528.0000\n",
      "Epoch 26/50\n",
      "20/20 [==============================] - 0s 3ms/step - loss: 402307904.0000 - val_loss: 386654560.0000\n",
      "Epoch 27/50\n",
      "20/20 [==============================] - 0s 3ms/step - loss: 390306624.0000 - val_loss: 375477696.0000\n",
      "Epoch 28/50\n",
      "20/20 [==============================] - 0s 3ms/step - loss: 377776192.0000 - val_loss: 363766016.0000\n",
      "Epoch 29/50\n",
      "20/20 [==============================] - 0s 3ms/step - loss: 364682784.0000 - val_loss: 351514368.0000\n",
      "Epoch 30/50\n",
      "20/20 [==============================] - 0s 3ms/step - loss: 351010272.0000 - val_loss: 338942400.0000\n",
      "Epoch 31/50\n",
      "20/20 [==============================] - 0s 3ms/step - loss: 337020928.0000 - val_loss: 325995296.0000\n",
      "Epoch 32/50\n",
      "20/20 [==============================] - 0s 3ms/step - loss: 322661408.0000 - val_loss: 312605472.0000\n",
      "Epoch 33/50\n",
      "20/20 [==============================] - 0s 3ms/step - loss: 307991680.0000 - val_loss: 298964672.0000\n",
      "Epoch 34/50\n",
      "20/20 [==============================] - 0s 3ms/step - loss: 293050112.0000 - val_loss: 285143040.0000\n",
      "Epoch 35/50\n",
      "20/20 [==============================] - 0s 3ms/step - loss: 277920384.0000 - val_loss: 271185760.0000\n",
      "Epoch 36/50\n",
      "20/20 [==============================] - 0s 3ms/step - loss: 262733664.0000 - val_loss: 257055232.0000\n",
      "Epoch 37/50\n",
      "20/20 [==============================] - 0s 3ms/step - loss: 247486592.0000 - val_loss: 242974416.0000\n",
      "Epoch 38/50\n",
      "20/20 [==============================] - 0s 3ms/step - loss: 232262528.0000 - val_loss: 229030752.0000\n",
      "Epoch 39/50\n",
      "20/20 [==============================] - 0s 3ms/step - loss: 217323424.0000 - val_loss: 215029552.0000\n",
      "Epoch 40/50\n",
      "20/20 [==============================] - 0s 3ms/step - loss: 202519136.0000 - val_loss: 201210160.0000\n",
      "Epoch 41/50\n",
      "20/20 [==============================] - 0s 3ms/step - loss: 187872544.0000 - val_loss: 187804640.0000\n",
      "Epoch 42/50\n",
      "20/20 [==============================] - 0s 3ms/step - loss: 173777104.0000 - val_loss: 174649408.0000\n",
      "Epoch 43/50\n",
      "20/20 [==============================] - 0s 3ms/step - loss: 160017872.0000 - val_loss: 161825376.0000\n",
      "Epoch 44/50\n",
      "20/20 [==============================] - 0s 3ms/step - loss: 146839648.0000 - val_loss: 149329616.0000\n",
      "Epoch 45/50\n",
      "20/20 [==============================] - 0s 3ms/step - loss: 134079576.0000 - val_loss: 137455072.0000\n",
      "Epoch 46/50\n",
      "20/20 [==============================] - 0s 3ms/step - loss: 121968168.0000 - val_loss: 126064216.0000\n",
      "Epoch 47/50\n",
      "20/20 [==============================] - 0s 3ms/step - loss: 110525104.0000 - val_loss: 115196176.0000\n",
      "Epoch 48/50\n",
      "20/20 [==============================] - 0s 3ms/step - loss: 99733008.0000 - val_loss: 104933760.0000\n",
      "Epoch 49/50\n",
      "20/20 [==============================] - 0s 3ms/step - loss: 89638608.0000 - val_loss: 95317320.0000\n",
      "Epoch 50/50\n",
      "20/20 [==============================] - 0s 3ms/step - loss: 80259384.0000 - val_loss: 86258416.0000\n",
      "7/7 [==============================] - 0s 2ms/step\n"
     ]
    }
   ],
   "source": [
    "#training the model\n",
    "history=nn_model.fit(X_train_scaled, y_train, epochs=50, validation_split=0.2, verbose=1)\n",
    "#making predicitons\n",
    "y_pred_nn=nn_model.predict(X_test_scaled)"
   ]
  },
  {
   "cell_type": "code",
   "execution_count": 18,
   "id": "7d93ec77",
   "metadata": {
    "execution": {
     "iopub.execute_input": "2024-08-09T01:19:00.273339Z",
     "iopub.status.busy": "2024-08-09T01:19:00.272342Z",
     "iopub.status.idle": "2024-08-09T01:19:00.278994Z",
     "shell.execute_reply": "2024-08-09T01:19:00.277969Z"
    },
    "papermill": {
     "duration": 0.03311,
     "end_time": "2024-08-09T01:19:00.281182",
     "exception": false,
     "start_time": "2024-08-09T01:19:00.248072",
     "status": "completed"
    },
    "tags": []
   },
   "outputs": [
    {
     "name": "stdout",
     "output_type": "stream",
     "text": [
      "Neural Network Mean Squared Error: 82769733.34321511\n"
     ]
    }
   ],
   "source": [
    "#model evaluation\n",
    "mse_nn = mean_squared_error(y_test, y_pred_nn)\n",
    "print(f\"Neural Network Mean Squared Error: {mse_nn}\")"
   ]
  },
  {
   "cell_type": "code",
   "execution_count": 19,
   "id": "fb26750f",
   "metadata": {
    "execution": {
     "iopub.execute_input": "2024-08-09T01:19:00.318958Z",
     "iopub.status.busy": "2024-08-09T01:19:00.318145Z",
     "iopub.status.idle": "2024-08-09T01:19:00.590468Z",
     "shell.execute_reply": "2024-08-09T01:19:00.589288Z"
    },
    "papermill": {
     "duration": 0.293497,
     "end_time": "2024-08-09T01:19:00.592788",
     "exception": false,
     "start_time": "2024-08-09T01:19:00.299291",
     "status": "completed"
    },
    "tags": []
   },
   "outputs": [
    {
     "data": {
      "image/png": "[encoded data removed]",
      "text/plain": [
       "<Figure size 640x480 with 1 Axes>"
      ]
     },
     "metadata": {},
     "output_type": "display_data"
    }
   ],
   "source": [
    "#plot\n",
    "#training loss\n",
    "plt.plot(history.history['loss'], label='Training loss')\n",
    "plt.plot(history.history['val_loss'], label='Validation loss')\n",
    "plt.xlabel('Epochs')\n",
    "plt.ylabel('Loss')\n",
    "plt.title('Neural Network training loss')\n",
    "plt.legend()\n",
    "plt.show()"
   ]
  }
 ],
 "metadata": {
  "kaggle": {
   "accelerator": "none",
   "dataSources": [
    {
     "datasetId": 4424223,
     "sourceId": 7600123,
     "sourceType": "datasetVersion"
    }
   ],
   "dockerImageVersionId": 30746,
   "isGpuEnabled": false,
   "isInternetEnabled": true,
   "language": "python",
   "sourceType": "notebook"
  },
  "kernelspec": {
   "display_name": "Python 3",
   "language": "python",
   "name": "python3"
  },
  "language_info": {
   "codemirror_mode": {
    "name": "ipython",
    "version": 3
   },
   "file_extension": ".py",
   "mimetype": "text/x-python",
   "name": "python",
   "nbconvert_exporter": "python",
   "pygments_lexer": "ipython3",
   "version": "3.10.13"
  },
  "papermill": {
   "default_parameters": {},
   "duration": 41.839737,
   "end_time": "2024-08-09T01:19:02.236895",
   "environment_variables": {},
   "exception": null,
   "input_path": "__notebook__.ipynb",
   "output_path": "__notebook__.ipynb",
   "parameters": {},
   "start_time": "2024-08-09T01:18:20.397158",
   "version": "2.5.0"
  }
 },
 "nbformat": 4,
 "nbformat_minor": 5
}
